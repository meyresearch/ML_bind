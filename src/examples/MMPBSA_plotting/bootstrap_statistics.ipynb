{
 "cells": [
  {
   "cell_type": "code",
   "execution_count": 1,
   "id": "featured-spider",
   "metadata": {},
   "outputs": [],
   "source": [
    "import matplotlib.pyplot as plt\n",
    "import pandas as pd\n",
    "import numpy as np\n",
    "results=pd.read_csv(\"MMPBSA_results.csv\")\n",
    "y_exp=results[\"Exp. dG (kcal/mol)\"]\n",
    "y_calc=results[\"Pred. dG (kcal/mol)\"]\n",
    "dy_exp=results[\"Estimated experimental error (kcal/mol)\"]\n",
    "dy_calc=results[\"Std. error of mean (kcal/mol)\"]"
   ]
  },
  {
   "cell_type": "code",
   "execution_count": 2,
   "id": "departmental-struggle",
   "metadata": {},
   "outputs": [],
   "source": [
    "def bootstrap_statistic(y_true, y_pred, dy_true=None, dy_pred=None, ci=0.95, statistic='RMSE', nbootstrap = 10000, plot_type='dG'):\n",
    "    import sklearn.metrics\n",
    "    import scipy\n",
    "    \"\"\"Compute mean and confidence intervals of specified statistic.\n",
    "\n",
    "    Parameters\n",
    "    ----------\n",
    "    y_true : ndarray with shape (N,)\n",
    "        True values\n",
    "    y_pred : ndarray with shape (N,)\n",
    "        Predicted values\n",
    "    dy_true : ndarray with shape (N,) or None\n",
    "        Errors of true values. If None, the values are assumed to have no errors\n",
    "    dy_pred : ndarray with shape (N,) or None\n",
    "        Errors of predicted values. If None, the values are assumed to have no errors\n",
    "    ci : float, optional, default=0.95\n",
    "        Interval for CI\n",
    "    statistic : str\n",
    "        Statistic, one of ['RMSE', 'MUE', 'R2', 'rho','KTAU','RAE']\n",
    "    nbootstrap : int, optional, default=10000\n",
    "        Number of bootstrap samples\n",
    "    plot_type : str, optional, default='dG'\n",
    "        'dG' or 'ddG'\n",
    "\n",
    "    Returns\n",
    "    -------\n",
    "    rmse_stats : dict of floeat\n",
    "        'mean' : mean RMSE\n",
    "        'stderr' : standard error\n",
    "        'low' : low end of CI\n",
    "        'high' : high end of CI\n",
    "    \"\"\"\n",
    "\n",
    "    def compute_statistic(y_true_sample, y_pred_sample, statistic):\n",
    "        \"\"\"Compute requested statistic.\n",
    "\n",
    "        Parameters\n",
    "        ----------\n",
    "        y_true : ndarray with shape (N,)\n",
    "            True values\n",
    "        y_pred : ndarray with shape (N,)\n",
    "            Predicted values\n",
    "        statistic : str\n",
    "            Statistic, one of ['RMSE', 'MUE', 'R2', 'rho','RAE','KTAU']\n",
    "\n",
    "        \"\"\"\n",
    "\n",
    "        def calc_RAE(y_true_sample, y_pred_sample):\n",
    "            MAE = sklearn.metrics.mean_absolute_error(y_true_sample, y_pred_sample)\n",
    "            mean = np.mean(y_true_sample)\n",
    "            MAD = np.sum([np.abs(mean-i) for i in y_true_sample]) / float(len(y_true_sample))\n",
    "            return MAE / MAD\n",
    "\n",
    "        def calc_RRMSE(y_true_sample, y_pred_sample):\n",
    "            rmse = np.sqrt(sklearn.metrics.mean_squared_error(y_true_sample, y_pred_sample))\n",
    "            mean_exp = np.mean(y_true_sample)\n",
    "            mds = np.sum([(mean_exp - i) ** 2 for i in y_true_sample]) / float(len(y_true_sample))\n",
    "            rrmse = np.sqrt(rmse ** 2 / mds)\n",
    "            return rrmse\n",
    "\n",
    "        if statistic == 'RMSE':\n",
    "            return np.sqrt(sklearn.metrics.mean_squared_error(y_true_sample, y_pred_sample))\n",
    "        elif statistic == 'MUE':\n",
    "            return sklearn.metrics.mean_absolute_error(y_true_sample, y_pred_sample)\n",
    "        elif statistic == 'R2':\n",
    "            slope, intercept, r_value, p_value, std_err = scipy.stats.linregress(y_true_sample, y_pred_sample)\n",
    "            return r_value**2\n",
    "        elif statistic == 'rho':\n",
    "            return scipy.stats.pearsonr(y_true_sample, y_pred_sample)[0]\n",
    "        elif statistic == 'RAE':\n",
    "            return calc_RAE(y_true_sample, y_pred_sample)\n",
    "        elif statistic == 'KTAU':\n",
    "            return scipy.stats.kendalltau(y_true_sample, y_pred_sample)[0]\n",
    "        else:\n",
    "            raise Exception(\"unknown statistic '{}'\".format(statistic))\n",
    "\n",
    "    def unique_differences(x):\n",
    "        \"\"\"Compute all unique differences\"\"\"\n",
    "        N = len(x)\n",
    "        return np.array([(x[i] - x[j]) for i in range(N) for j in range(N) if (i != j)])\n",
    "\n",
    "    if dy_true is None:\n",
    "        dy_true = np.zeros_like(y_true)\n",
    "    if dy_pred is None:\n",
    "        dy_pred = np.zeros_like(y_pred)\n",
    "    assert len(y_true) == len(y_pred)\n",
    "    assert len(y_true) == len(dy_true)\n",
    "    assert len(y_true) == len(dy_pred)\n",
    "    sample_size = len(y_true)\n",
    "    s_n = np.zeros([nbootstrap], np.float64) # s_n[n] is the statistic computed for bootstrap sample n\n",
    "    for replicate in range(nbootstrap):\n",
    "        y_true_sample = np.zeros_like(y_true)\n",
    "        y_pred_sample = np.zeros_like(y_pred)\n",
    "        for i,j in enumerate(np.random.choice(np.arange(sample_size), size=[sample_size], replace=True)):\n",
    "            y_true_sample[i] = np.random.normal(loc=y_true[j], scale=np.fabs(dy_true[j]), size=1)\n",
    "            y_pred_sample[i] = np.random.normal(loc=y_pred[j], scale=np.fabs(dy_pred[j]), size=1)\n",
    "        s_n[replicate] = compute_statistic(y_true_sample, y_pred_sample, statistic)\n",
    "\n",
    "    rmse_stats = dict()\n",
    "    rmse_stats['mle'] = compute_statistic(y_true, y_pred, statistic)\n",
    "    rmse_stats['stderr'] = np.std(s_n)\n",
    "    rmse_stats['mean'] = np.mean(s_n)\n",
    "    # TODO: Is there a canned method to do this?\n",
    "    s_n = np.sort(s_n)\n",
    "    low_frac = (1.0-ci)/2.0\n",
    "    high_frac = 1.0 - low_frac\n",
    "    rmse_stats['low'] = s_n[int(np.floor(nbootstrap*low_frac))]\n",
    "    rmse_stats['high'] = s_n[int(np.ceil(nbootstrap*high_frac))]\n",
    "\n",
    "    return s_n, rmse_stats"
   ]
  },
  {
   "cell_type": "code",
   "execution_count": 3,
   "id": "falling-schema",
   "metadata": {},
   "outputs": [],
   "source": [
    "s_n, stat=bootstrap_statistic(y_exp, y_calc, dy_true=dy_exp, dy_pred=dy_calc)"
   ]
  },
  {
   "cell_type": "code",
   "execution_count": 4,
   "id": "liquid-enlargement",
   "metadata": {},
   "outputs": [
    {
     "data": {
      "text/plain": [
       "(array([2.000e+00, 3.200e+01, 2.500e+02, 9.460e+02, 2.242e+03, 2.985e+03,\n",
       "        2.317e+03, 9.960e+02, 2.060e+02, 2.400e+01]),\n",
       " array([2.04907067, 2.48082744, 2.91258422, 3.344341  , 3.77609777,\n",
       "        4.20785455, 4.63961133, 5.0713681 , 5.50312488, 5.93488166,\n",
       "        6.36663843]),\n",
       " <BarContainer object of 10 artists>)"
      ]
     },
     "execution_count": 4,
     "metadata": {},
     "output_type": "execute_result"
    },
    {
     "data": {
      "image/png": "[encoded data removed]",
      "text/plain": [
       "<Figure size 432x288 with 1 Axes>"
      ]
     },
     "metadata": {
      "needs_background": "light"
     },
     "output_type": "display_data"
    }
   ],
   "source": [
    "plt.hist(s_n)"
   ]
  },
  {
   "cell_type": "code",
   "execution_count": 5,
   "id": "increasing-sterling",
   "metadata": {},
   "outputs": [
    {
     "name": "stdout",
     "output_type": "stream",
     "text": [
      "{'mle': 4.407923514323382, 'stderr': 0.5557987152575125, 'mean': 4.423343209483398, 'low': 3.312694228633563, 'high': 5.48257397546426}\n"
     ]
    }
   ],
   "source": [
    "print(stat)"
   ]
  },
  {
   "cell_type": "code",
   "execution_count": 6,
   "id": "affected-aquatic",
   "metadata": {},
   "outputs": [
    {
     "name": "stdout",
     "output_type": "stream",
     "text": [
      "6.366638433852702\n"
     ]
    }
   ],
   "source": [
    "print(max(s_n))"
   ]
  },
  {
   "cell_type": "code",
   "execution_count": 7,
   "id": "express-volunteer",
   "metadata": {},
   "outputs": [
    {
     "name": "stdout",
     "output_type": "stream",
     "text": [
      "The standard error of predicted binding affinities is: 0.5557987152575125\n"
     ]
    }
   ],
   "source": [
    "print(\"The standard error of predicted binding affinities is:\", stat['stderr'])"
   ]
  }
 ],
 "metadata": {
  "kernelspec": {
   "display_name": "Python 3",
   "language": "python",
   "name": "python3"
  },
  "language_info": {
   "codemirror_mode": {
    "name": "ipython",
    "version": 3
   },
   "file_extension": ".py",
   "mimetype": "text/x-python",
   "name": "python",
   "nbconvert_exporter": "python",
   "pygments_lexer": "ipython3",
   "version": "3.9.2"
  }
 },
 "nbformat": 4,
 "nbformat_minor": 5
}
