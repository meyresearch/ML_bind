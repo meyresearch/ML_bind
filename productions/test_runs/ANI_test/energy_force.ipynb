{
 "cells": [
  {
   "cell_type": "code",
   "execution_count": 1,
   "metadata": {},
   "outputs": [],
   "source": [
    "%matplotlib inline"
   ]
  },
  {
   "cell_type": "markdown",
   "metadata": {},
   "source": [
    "\n",
    "Computing Energy and Force Using Models Inside Model Zoo\n",
    "========================================================\n",
    "\n",
    "TorchANI has a model zoo trained by NeuroChem. These models are shipped with\n",
    "TorchANI and can be used directly.\n"
   ]
  },
  {
   "cell_type": "markdown",
   "metadata": {},
   "source": [
    "To begin with, let's first import the modules we will use:\n",
    "\n"
   ]
  },
  {
   "cell_type": "code",
   "execution_count": 2,
   "metadata": {},
   "outputs": [],
   "source": [
    "import torch\n",
    "import torchani"
   ]
  },
  {
   "cell_type": "markdown",
   "metadata": {},
   "source": [
    "Let's now manually specify the device we want TorchANI to run:\n",
    "\n"
   ]
  },
  {
   "cell_type": "code",
   "execution_count": 3,
   "metadata": {},
   "outputs": [],
   "source": [
    "device = torch.device('cuda' if torch.cuda.is_available() else 'cpu')"
   ]
  },
  {
   "cell_type": "markdown",
   "metadata": {},
   "source": [
    "Let's now load the built-in ANI-1ccx models. The builtin ANI-1ccx contains 8\n",
    "models trained with diffrent initialization. Predicting the energy and force\n",
    "using the average of the 8 models outperform using a single model, so it is\n",
    "always recommended to use an ensemble, unless the speed of computation is an\n",
    "issue in your application.\n",
    "\n",
    "The ``periodic_table_index`` arguments tells TorchANI to use element index\n",
    "in periodic table to index species. If not specified, you need to use\n",
    "0, 1, 2, 3, ... to index species\n",
    "\n"
   ]
  },
  {
   "cell_type": "code",
   "execution_count": 4,
   "metadata": {},
   "outputs": [],
   "source": [
    "model = torchani.models.ANI2x(periodic_table_index=True).to(device)"
   ]
  },
  {
   "cell_type": "markdown",
   "metadata": {},
   "source": [
    "Now let's define the coordinate and species. If you just want to compute the\n",
    "energy and force for a single structure like in this example, you need to\n",
    "make the coordinate tensor has shape ``(1, Na, 3)`` and species has shape\n",
    "``(1, Na)``, where ``Na`` is the number of atoms in the molecule, the\n",
    "preceding ``1`` in the shape is here to support batch processing like in\n",
    "training. If you have ``N`` different structures to compute, then make it\n",
    "``N``.\n",
    "\n",
    "<div class=\"alert alert-info\"><h4>Note</h4><p>The coordinates are in Angstrom, and the energies you get are in Hartree</p></div>\n",
    "\n"
   ]
  },
  {
   "cell_type": "code",
   "execution_count": 5,
   "metadata": {},
   "outputs": [],
   "source": [
    "coordinates = torch.tensor([[[0.03192167, 0.00638559, 0.01301679],\n",
    "                             [-0.83140486, 0.39370209, -0.26395324],\n",
    "                             [-0.66518241, -0.84461308, 0.20759389],\n",
    "                             [0.45554739, 0.54289633, 0.81170881],\n",
    "                             [0.66091919, -0.16799635, -0.91037834]]],\n",
    "                           requires_grad=True, device=device)\n",
    "# In periodic table, C = 6 and H = 1\n",
    "species = torch.tensor([[6, 1, 1, 1, 1]], device=device)"
   ]
  },
  {
   "cell_type": "code",
   "execution_count": 9,
   "metadata": {},
   "outputs": [
    {
     "name": "stdout",
     "output_type": "stream",
     "text": [
      "tensor([[[ 0.0319,  0.0064,  0.0130],\n",
      "         [-0.8314,  0.3937, -0.2640],\n",
      "         [-0.6652, -0.8446,  0.2076],\n",
      "         [ 0.4555,  0.5429,  0.8117],\n",
      "         [ 0.6609, -0.1680, -0.9104]]], requires_grad=True)\n",
      "tensor([[6, 1, 1, 1, 1]])\n"
     ]
    }
   ],
   "source": [
    "print(coordinates)\n",
    "print(species)"
   ]
  },
  {
   "cell_type": "markdown",
   "metadata": {},
   "source": [
    "Now let's compute energy and force:\n",
    "\n"
   ]
  },
  {
   "cell_type": "code",
   "execution_count": 6,
   "metadata": {},
   "outputs": [],
   "source": [
    "energy = model((species, coordinates)).energies\n",
    "derivative = torch.autograd.grad(energy.sum(), coordinates)[0]\n",
    "force = -derivative"
   ]
  },
  {
   "cell_type": "markdown",
   "metadata": {},
   "source": [
    "And print to see the result:\n",
    "\n"
   ]
  },
  {
   "cell_type": "code",
   "execution_count": 7,
   "metadata": {},
   "outputs": [
    {
     "name": "stdout",
     "output_type": "stream",
     "text": [
      "Energy: -40.459790705366636\n",
      "Force: tensor([[ 0.0478, -0.1304, -0.0551],\n",
      "        [-0.1353,  0.1581, -0.0776],\n",
      "        [ 0.0804, -0.0388,  0.0387],\n",
      "        [ 0.0254,  0.0076,  0.0433],\n",
      "        [-0.0183,  0.0035,  0.0508]])\n"
     ]
    }
   ],
   "source": [
    "print('Energy:', energy.item())\n",
    "print('Force:', force.squeeze())"
   ]
  },
  {
   "cell_type": "code",
   "execution_count": null,
   "metadata": {},
   "outputs": [],
   "source": []
  }
 ],
 "metadata": {
  "kernelspec": {
   "display_name": "Python 3",
   "language": "python",
   "name": "python3"
  },
  "language_info": {
   "codemirror_mode": {
    "name": "ipython",
    "version": 3
   },
   "file_extension": ".py",
   "mimetype": "text/x-python",
   "name": "python",
   "nbconvert_exporter": "python",
   "pygments_lexer": "ipython3",
   "version": "3.8.0"
  }
 },
 "nbformat": 4,
 "nbformat_minor": 1
}
